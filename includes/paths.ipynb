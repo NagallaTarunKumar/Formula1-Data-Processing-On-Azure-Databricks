{
 "cells": [
  {
   "cell_type": "code",
   "execution_count": 0,
   "metadata": {
    "application/vnd.databricks.v1+cell": {
     "cellMetadata": {},
     "inputWidgets": {},
     "nuid": "30e4ded2-4e94-4285-beeb-6f00041c3d4f",
     "showTitle": false,
     "tableResultSettingsMap": {},
     "title": ""
    }
   },
   "outputs": [],
   "source": [
    "raw_container_folder_path = \"abfss://raw@formula1prodls.dfs.core.windows.net\"\n",
    "processed_container_folder_path = \"abfss://processed@formula1prodls.dfs.core.windows.net\"\n",
    "presentation_container_folder_path = \"abfss://presentation@formula1prodls.dfs.core.windows.net\""
   ]
  }
 ],
 "metadata": {
  "application/vnd.databricks.v1+notebook": {
   "computePreferences": null,
   "dashboards": [],
   "environmentMetadata": {
    "base_environment": "",
    "client": "1"
   },
   "language": "python",
   "notebookMetadata": {
    "pythonIndentUnit": 4
   },
   "notebookName": "paths",
   "widgets": {}
  },
  "language_info": {
   "name": "python"
  }
 },
 "nbformat": 4,
 "nbformat_minor": 0
}
