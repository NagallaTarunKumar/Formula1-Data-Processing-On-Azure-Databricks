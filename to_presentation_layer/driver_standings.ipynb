{
 "cells": [
  {
   "cell_type": "code",
   "execution_count": 0,
   "metadata": {
    "application/vnd.databricks.v1+cell": {
     "cellMetadata": {},
     "inputWidgets": {},
     "nuid": "faad83fa-d868-4b67-aa71-84f084bf6984",
     "showTitle": false,
     "tableResultSettingsMap": {},
     "title": ""
    }
   },
   "outputs": [],
   "source": [
    "%run \"../includes/paths\""
   ]
  },
  {
   "cell_type": "code",
   "execution_count": 0,
   "metadata": {
    "application/vnd.databricks.v1+cell": {
     "cellMetadata": {},
     "inputWidgets": {},
     "nuid": "11fdc1f2-16f2-44de-b5f4-e62454d4a264",
     "showTitle": false,
     "tableResultSettingsMap": {},
     "title": ""
    }
   },
   "outputs": [],
   "source": [
    "%run \"../includes/common_functions\""
   ]
  },
  {
   "cell_type": "code",
   "execution_count": 0,
   "metadata": {
    "application/vnd.databricks.v1+cell": {
     "cellMetadata": {},
     "inputWidgets": {},
     "nuid": "9a54fed7-32f5-414d-ba6b-254b53b863c0",
     "showTitle": false,
     "tableResultSettingsMap": {},
     "title": ""
    }
   },
   "outputs": [],
   "source": [
    "dbutils.widgets.text(\"p_file_date\",\"\")\n",
    "v_file_date = dbutils.widgets.get(\"p_file_date\")"
   ]
  },
  {
   "cell_type": "code",
   "execution_count": 0,
   "metadata": {
    "application/vnd.databricks.v1+cell": {
     "cellMetadata": {},
     "inputWidgets": {},
     "nuid": "9af577ec-18bd-45fb-bc9b-ed05ea40d7ba",
     "showTitle": false,
     "tableResultSettingsMap": {},
     "title": ""
    }
   },
   "outputs": [],
   "source": [
    "# finding years on which data has to be processed, below is the logic which filters based on the file date then selects distinct years, collect is used to collect output as a list\n",
    "\n",
    "race_results_list = spark.read.format(\"delta\").load(f\"{presentation_container_folder_path}/race_results\")\\\n",
    ".filter(f\"file_date = '{v_file_date}'\")\\\n",
    ".select(\"race_year\")\\\n",
    ".distinct()\\\n",
    ".collect()\n",
    "\n",
    "# getting the distinct years from the list\n",
    "\n",
    "race_year_list = []\n",
    "for race_year in race_results_list:\n",
    "    race_year_list.append(race_year.race_year)"
   ]
  },
  {
   "cell_type": "code",
   "execution_count": 0,
   "metadata": {
    "application/vnd.databricks.v1+cell": {
     "cellMetadata": {},
     "inputWidgets": {},
     "nuid": "b5992657-8f38-4c14-aa6f-2f11300d59e5",
     "showTitle": false,
     "tableResultSettingsMap": {},
     "title": ""
    }
   },
   "outputs": [],
   "source": [
    "# finding years on which data has to be processed, below is the logic which filters based on the file date then selects distinct years, collect is used to collect output as a list\n",
    "\n",
    "race_results_list = spark.read.format(\"delta\").load(f\"{presentation_container_folder_path}/race_results\")\\\n",
    ".filter(f\"file_date = '{v_file_date}'\")\\\n",
    ".select(\"race_year\")\\\n",
    ".distinct()\\\n",
    ".collect()\n",
    "\n",
    "# getting the distinct years from the list\n",
    "\n",
    "race_year_list = []\n",
    "for race_year in race_results_list:\n",
    "    race_year_list.append(race_year.race_year)"
   ]
  },
  {
   "cell_type": "code",
   "execution_count": 0,
   "metadata": {
    "application/vnd.databricks.v1+cell": {
     "cellMetadata": {},
     "inputWidgets": {},
     "nuid": "dd600b39-d1e4-4cef-bb70-f0249f8058ab",
     "showTitle": false,
     "tableResultSettingsMap": {},
     "title": ""
    }
   },
   "outputs": [],
   "source": [
    "display(race_results_df.orderBy(col(\"race_year\").desc()))"
   ]
  },
  {
   "cell_type": "code",
   "execution_count": 0,
   "metadata": {
    "application/vnd.databricks.v1+cell": {
     "cellMetadata": {},
     "inputWidgets": {},
     "nuid": "c29fe1ca-1de3-45f0-8c89-3c951736befe",
     "showTitle": false,
     "tableResultSettingsMap": {},
     "title": ""
    }
   },
   "outputs": [],
   "source": [
    "from pyspark.sql.functions import *\n",
    "driver_standings_df = race_results_df\\\n",
    "    .groupBy(\"race_year\", \"driver_name\", \"driver_nationality\")\\\n",
    "        .agg(sum(\"points\").alias(\"total_points\"), count(when(col(\"position\")== 1, True)).alias(\"wins\"))\\\n",
    "            .orderBy(col(\"race_year\"),col(\"total_points\").desc(), col(\"wins\").desc())"
   ]
  },
  {
   "cell_type": "code",
   "execution_count": 0,
   "metadata": {
    "application/vnd.databricks.v1+cell": {
     "cellMetadata": {},
     "inputWidgets": {},
     "nuid": "a649e2ef-4323-4446-b6f7-1269c10900c3",
     "showTitle": false,
     "tableResultSettingsMap": {},
     "title": ""
    }
   },
   "outputs": [],
   "source": [
    "from pyspark.sql.window import Window\n",
    "window_spec = Window.partitionBy(\"race_year\").orderBy(col(\"total_points\").desc(), col(\"wins\").desc())\n",
    "final_df = driver_standings_df.withColumn(\"rank\", rank().over(window_spec))"
   ]
  },
  {
   "cell_type": "code",
   "execution_count": 0,
   "metadata": {
    "application/vnd.databricks.v1+cell": {
     "cellMetadata": {},
     "inputWidgets": {},
     "nuid": "549ce3ef-407d-4d34-8308-2276229be6eb",
     "showTitle": false,
     "tableResultSettingsMap": {},
     "title": ""
    }
   },
   "outputs": [],
   "source": [
    "#final_df.write.mode(\"overwrite\").parquet(f\"{presentation_container_folder_path}/driver_standings\")\n",
    "\n",
    "#final_df.write.mode(\"overwrite\").format(\"parquet\").saveAsTable(\"f1_presentation_db.driver_standings\")\n",
    "\n",
    "# load_incremental_data(final_df, \"race_year\", \"f1_presentation_db\", \"driver_standings\")\n",
    "\n",
    "merge_condition = \"target_tab.driver_name = source_tab.driver_name AND target_tab.race_year = source_tab.race_year\"\n",
    "\n",
    "merge_incremental_data(final_df, presentation_container_folder_path, merge_condition, \"race_year\", \"f1_presentation_db\", \"driver_standings\")"
   ]
  }
 ],
 "metadata": {
  "application/vnd.databricks.v1+notebook": {
   "computePreferences": null,
   "dashboards": [],
   "environmentMetadata": {
    "base_environment": "",
    "client": "1"
   },
   "language": "python",
   "notebookMetadata": {
    "pythonIndentUnit": 4
   },
   "notebookName": "driver_standings",
   "widgets": {}
  },
  "language_info": {
   "name": "python"
  }
 },
 "nbformat": 4,
 "nbformat_minor": 0
}
