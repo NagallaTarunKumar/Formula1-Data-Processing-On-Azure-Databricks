{
 "cells": [
  {
   "cell_type": "markdown",
   "metadata": {
    "application/vnd.databricks.v1+cell": {
     "cellMetadata": {},
     "inputWidgets": {},
     "nuid": "225de359-03d7-4ed6-b682-967fbfd90347",
     "showTitle": false,
     "tableResultSettingsMap": {},
     "title": ""
    }
   },
   "source": [
    "####calculating the points scroed by each driver to do analysis on most dominant drivers(we are doing this using sql/spark sql)\n",
    "- join tables and get required cols\n",
    "- add a columns total points and races by each driver \n",
    "- add a calculated points which will normalize the points like one who finished 1st will have 10, 2 -9 ..."
   ]
  },
  {
   "cell_type": "code",
   "execution_count": 0,
   "metadata": {
    "application/vnd.databricks.v1+cell": {
     "cellMetadata": {},
     "inputWidgets": {},
     "nuid": "cfd15dff-6a49-44b4-9bb2-6886b7191e27",
     "showTitle": false,
     "tableResultSettingsMap": {},
     "title": ""
    }
   },
   "outputs": [],
   "source": [
    "dbutils.widgets.text(\"p_file_date\",\"\")\n",
    "v_file_date = dbutils.widgets.get(\"p_file_date\")"
   ]
  },
  {
   "cell_type": "code",
   "execution_count": 0,
   "metadata": {
    "application/vnd.databricks.v1+cell": {
     "cellMetadata": {},
     "inputWidgets": {},
     "nuid": "84c68dfd-5d9b-4942-95ec-aec6ad883573",
     "showTitle": false,
     "tableResultSettingsMap": {},
     "title": ""
    }
   },
   "outputs": [],
   "source": [
    "# creating a table using spark.sql\n",
    "\n",
    "spark.sql(\"\"\"CREATE TABLE IF NOT EXISTS f1_presentation_db.calculated_race_results(\n",
    "        race_year INT,\n",
    "        team_name STRING,\n",
    "        driver_id INT,\n",
    "        driver_name STRING,\n",
    "        race_id INT,\n",
    "        position INT,\n",
    "        points INT,\n",
    "        calculated_points INT,\n",
    "        created_date TIMESTAMP,\n",
    "        updated_date TIMESTAMP\n",
    "        )\n",
    "        USING delta\n",
    "\"\"\")\n"
   ]
  },
  {
   "cell_type": "code",
   "execution_count": 0,
   "metadata": {
    "application/vnd.databricks.v1+cell": {
     "cellMetadata": {},
     "inputWidgets": {},
     "nuid": "b064363f-3d78-46b1-a2b0-50506b1bbff0",
     "showTitle": false,
     "tableResultSettingsMap": {},
     "title": ""
    }
   },
   "outputs": [],
   "source": [
    "# creating a temporary view which which gets the data by joining some tables as per our requirement. we have added a additional condition to filter based on file date which bring only new data so that it can support incremental loads as well\n",
    "\n",
    "spark.sql(f\"\"\"\n",
    "CREATE OR REPLACE TEMP VIEW vcalculated_points \n",
    "AS\n",
    "SELECT races.race_year,\n",
    "constructors.name as team_name,\n",
    "drivers.driver_id ,\n",
    "drivers.name as driver_name,\n",
    "races.race_id ,\n",
    "results.position ,\n",
    "results.points,\n",
    "11-results.position as calculated_points\n",
    "FROM f1_processed_db.results\n",
    "JOIN f1_processed_db.drivers ON (results.driver_id = drivers.driver_id)\n",
    "JOIN f1_processed_db.constructors ON (results.constructor_id = constructors.constructor_id)\n",
    "JOIN f1_processed_db.races ON (results.race_id = races.race_id)\n",
    "where results.position <= 10 \n",
    "    AND results.file_date = '{v_file_date}'\n",
    "\"\"\")\n"
   ]
  },
  {
   "cell_type": "code",
   "execution_count": 0,
   "metadata": {
    "application/vnd.databricks.v1+cell": {
     "cellMetadata": {},
     "inputWidgets": {},
     "nuid": "9bb9f07d-b173-4471-80ec-5f3bc2d3b554",
     "showTitle": false,
     "tableResultSettingsMap": {},
     "title": ""
    }
   },
   "outputs": [],
   "source": [
    "# merging the data to the target table using the view created above\n",
    "from pyspark.sql.functions import current_timestamp\n",
    "spark.sql(\"\"\"\n",
    "          merge into f1_presentation_db.calculated_race_results as t\n",
    "          using vcalculated_points as s \n",
    "          on (t.driver_id = s.driver_id and t.race_id = s.race_id)\n",
    "          when matched then update\n",
    "          set\n",
    "          t.position = s.position,\n",
    "          t.points = s.points,\n",
    "          t.calculated_points = s.calculated_points,\n",
    "          t.updated_date = current_timestamp()\n",
    "          when not matched then \n",
    "          insert (race_year,team_name,driver_id,driver_name,race_id,position,points,calculated_points,created_date,updated_date )\n",
    "          values (s.race_year,s.team_name,s.driver_id,s.driver_name,s.race_id,s.position,s.points,s.calculated_points,current_timestamp(),current_timestamp())\n",
    "\n",
    "          \"\"\")"
   ]
  }
 ],
 "metadata": {
  "application/vnd.databricks.v1+notebook": {
   "computePreferences": null,
   "dashboards": [],
   "environmentMetadata": {
    "base_environment": "",
    "client": "1"
   },
   "language": "python",
   "notebookMetadata": {
    "pythonIndentUnit": 4
   },
   "notebookName": "calculated_race_results",
   "widgets": {}
  },
  "language_info": {
   "name": "python"
  }
 },
 "nbformat": 4,
 "nbformat_minor": 0
}
