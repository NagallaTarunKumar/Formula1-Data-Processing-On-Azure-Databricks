{
 "cells": [
  {
   "cell_type": "code",
   "execution_count": 0,
   "metadata": {
    "application/vnd.databricks.v1+cell": {
     "cellMetadata": {},
     "inputWidgets": {},
     "nuid": "98bc9638-1ba7-417e-a564-dfc4cfc4fcab",
     "showTitle": false,
     "tableResultSettingsMap": {},
     "title": ""
    }
   },
   "outputs": [],
   "source": [
    "dbutils.widgets.text(\"p_data_source\", \"\")\n",
    "v_data_source = dbutils.widgets.get(\"p_data_source\")"
   ]
  },
  {
   "cell_type": "code",
   "execution_count": 0,
   "metadata": {
    "application/vnd.databricks.v1+cell": {
     "cellMetadata": {},
     "inputWidgets": {},
     "nuid": "ce47fde8-d024-4d15-aec5-336a8449ab22",
     "showTitle": false,
     "tableResultSettingsMap": {},
     "title": ""
    }
   },
   "outputs": [],
   "source": [
    "dbutils.widgets.text(\"p_file_date\", \"\")\n",
    "v_file_date = dbutils.widgets.get(\"p_file_date\")"
   ]
  },
  {
   "cell_type": "code",
   "execution_count": 0,
   "metadata": {
    "application/vnd.databricks.v1+cell": {
     "cellMetadata": {},
     "inputWidgets": {},
     "nuid": "fdddd295-d39a-4882-95e0-918609621c4a",
     "showTitle": false,
     "tableResultSettingsMap": {},
     "title": ""
    }
   },
   "outputs": [],
   "source": [
    "%run \"../includes/paths\""
   ]
  },
  {
   "cell_type": "code",
   "execution_count": 0,
   "metadata": {
    "application/vnd.databricks.v1+cell": {
     "cellMetadata": {},
     "inputWidgets": {},
     "nuid": "08add010-9adf-4a52-9fee-2497d2b74844",
     "showTitle": false,
     "tableResultSettingsMap": {},
     "title": ""
    }
   },
   "outputs": [],
   "source": [
    "%run \"../includes/common_functions\""
   ]
  },
  {
   "cell_type": "code",
   "execution_count": 0,
   "metadata": {
    "application/vnd.databricks.v1+cell": {
     "cellMetadata": {},
     "inputWidgets": {},
     "nuid": "b435ac56-2abd-49a3-9b5b-2b22d3435595",
     "showTitle": false,
     "tableResultSettingsMap": {},
     "title": ""
    }
   },
   "outputs": [],
   "source": [
    "from pyspark.sql.types import *\n",
    "pit_stops_schema = StructType([StructField(\"driverId\", IntegerType(), True), \n",
    "                               StructField(\"duration\", StringType(), True), \n",
    "                               StructField(\"lap\", IntegerType(), True), \n",
    "                               StructField(\"milliseconds\", IntegerType(), True), \n",
    "                               StructField(\"raceId\", IntegerType(), True), \n",
    "                               StructField(\"stop\", IntegerType(), True), \n",
    "                               StructField(\"time\", StringType(), True)])"
   ]
  },
  {
   "cell_type": "code",
   "execution_count": 0,
   "metadata": {
    "application/vnd.databricks.v1+cell": {
     "cellMetadata": {},
     "inputWidgets": {},
     "nuid": "aa865c8c-5505-4af3-a9eb-ed0eaf9b6cd1",
     "showTitle": false,
     "tableResultSettingsMap": {},
     "title": ""
    }
   },
   "outputs": [],
   "source": [
    "df = spark.read.option(\"multiline\", \"true\").schema(pit_stops_schema).json(f\"{raw_container_folder_path}/{v_file_date}/pit_stops.json\")"
   ]
  },
  {
   "cell_type": "code",
   "execution_count": 0,
   "metadata": {
    "application/vnd.databricks.v1+cell": {
     "cellMetadata": {},
     "inputWidgets": {},
     "nuid": "9f338258-62db-4bd9-b1e1-d3c6ee4c2df2",
     "showTitle": false,
     "tableResultSettingsMap": {},
     "title": ""
    }
   },
   "outputs": [],
   "source": [
    "from pyspark.sql.functions import current_timestamp,lit\n",
    "final_df = df.withColumnRenamed(\"driverId\", \"driver_id\")\\\n",
    "            .withColumnRenamed(\"raceId\",\"race_id\")\\\n",
    "            .withColumn(\"ingested_date\", current_timestamp())\\\n",
    "            .withColumn(\"data_source\",lit(v_data_source))"
   ]
  },
  {
   "cell_type": "code",
   "execution_count": 0,
   "metadata": {
    "application/vnd.databricks.v1+cell": {
     "cellMetadata": {},
     "inputWidgets": {},
     "nuid": "b0331458-4714-4480-b1a0-fe7c23f074ca",
     "showTitle": false,
     "tableResultSettingsMap": {},
     "title": ""
    }
   },
   "outputs": [],
   "source": [
    "#final_df.write.mode(\"overwrite\").parquet(f\"{processed_container_folder_path}/pit_stops\")\n",
    "\n",
    "#final_df.write.mode(\"overwrite\").format(\"parquet\").saveAsTable(\"f1_processed_db.pit_stops\")\n",
    "\n",
    "#load_incremental_data(final_df, \"race_id\", \"f1_processed_db\", \"pit_stops\")\n",
    "\n",
    "merge_condition = \"target_tab.driver_id = source_tab.driver_id AND target_tab.race_id = source_tab.race_id AND target_tab.stop = source_tab.stop AND target_tab.race_id = source_tab.race_id\"\n",
    "merge_incremental_data( final_df, processed_container_folder_path, merge_condition, \"race_id\", \"f1_processed_db\", \"pit_stops\")"
   ]
  },
  {
   "cell_type": "code",
   "execution_count": 0,
   "metadata": {
    "application/vnd.databricks.v1+cell": {
     "cellMetadata": {},
     "inputWidgets": {},
     "nuid": "d44d26a4-d8fc-4795-9a3c-1a2a46da19d5",
     "showTitle": false,
     "tableResultSettingsMap": {},
     "title": ""
    }
   },
   "outputs": [],
   "source": [
    "dbutils.notebook.exit(\"success\")"
   ]
  }
 ],
 "metadata": {
  "application/vnd.databricks.v1+notebook": {
   "computePreferences": null,
   "dashboards": [],
   "environmentMetadata": {
    "base_environment": "",
    "client": "1"
   },
   "language": "python",
   "notebookMetadata": {
    "pythonIndentUnit": 4
   },
   "notebookName": "pitstops_data_ingestion",
   "widgets": {}
  },
  "language_info": {
   "name": "python"
  }
 },
 "nbformat": 4,
 "nbformat_minor": 0
}
