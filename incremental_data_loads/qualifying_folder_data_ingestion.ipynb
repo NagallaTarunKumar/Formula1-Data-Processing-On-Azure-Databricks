{
 "cells": [
  {
   "cell_type": "code",
   "execution_count": 0,
   "metadata": {
    "application/vnd.databricks.v1+cell": {
     "cellMetadata": {},
     "inputWidgets": {},
     "nuid": "0d119bac-c767-4a07-969b-95284ca7fb6f",
     "showTitle": false,
     "tableResultSettingsMap": {},
     "title": ""
    }
   },
   "outputs": [],
   "source": [
    "dbutils.widgets.text(\"p_data_source\", \"\")\n",
    "v_data_source = dbutils.widgets.get(\"p_data_source\")"
   ]
  },
  {
   "cell_type": "code",
   "execution_count": 0,
   "metadata": {
    "application/vnd.databricks.v1+cell": {
     "cellMetadata": {},
     "inputWidgets": {},
     "nuid": "db254bb3-364d-4011-986d-5cfa34d15f2e",
     "showTitle": false,
     "tableResultSettingsMap": {},
     "title": ""
    }
   },
   "outputs": [],
   "source": [
    "dbutils.widgets.text(\"p_file_date\", \"\")\n",
    "v_file_date = dbutils.widgets.get(\"p_file_date\")"
   ]
  },
  {
   "cell_type": "code",
   "execution_count": 0,
   "metadata": {
    "application/vnd.databricks.v1+cell": {
     "cellMetadata": {},
     "inputWidgets": {},
     "nuid": "8fc6e3a8-789b-4166-8788-157dd051fdd4",
     "showTitle": false,
     "tableResultSettingsMap": {},
     "title": ""
    }
   },
   "outputs": [],
   "source": [
    "%run \"../includes/paths\""
   ]
  },
  {
   "cell_type": "code",
   "execution_count": 0,
   "metadata": {
    "application/vnd.databricks.v1+cell": {
     "cellMetadata": {},
     "inputWidgets": {},
     "nuid": "09f5655c-fa8d-47fc-8f3a-d8865b7b7203",
     "showTitle": false,
     "tableResultSettingsMap": {},
     "title": ""
    }
   },
   "outputs": [],
   "source": [
    "%run \"../includes/common_functions\""
   ]
  },
  {
   "cell_type": "code",
   "execution_count": 0,
   "metadata": {
    "application/vnd.databricks.v1+cell": {
     "cellMetadata": {},
     "inputWidgets": {},
     "nuid": "1917eb00-5ab9-49b8-995c-2a51be5d63f2",
     "showTitle": false,
     "tableResultSettingsMap": {},
     "title": ""
    }
   },
   "outputs": [],
   "source": [
    "from pyspark.sql.types import * \n",
    "qualifying_schema = StructType([StructField('qualifyId', IntegerType(), True),\n",
    "                               StructField('raceId', IntegerType(), True),\n",
    "                               StructField('driverId', IntegerType(), True),\n",
    "                               StructField('constructorId', IntegerType(), True),\n",
    "                               StructField('number', IntegerType(), True),\n",
    "                               StructField('position', IntegerType(), True),\n",
    "                               StructField('q1', StringType(), True),\n",
    "                               StructField('q2', StringType(), True),\n",
    "                               StructField('q3', StringType(), True)])"
   ]
  },
  {
   "cell_type": "code",
   "execution_count": 0,
   "metadata": {
    "application/vnd.databricks.v1+cell": {
     "cellMetadata": {},
     "inputWidgets": {},
     "nuid": "06aece0f-6cac-4fc5-83e9-19fe082223a2",
     "showTitle": false,
     "tableResultSettingsMap": {},
     "title": ""
    }
   },
   "outputs": [],
   "source": [
    "qualify_df = spark.read.schema(qualifying_schema).option(\"multiline\", True).json(f\"{raw_container_folder_path}/{v_file_date}/qualifying\")"
   ]
  },
  {
   "cell_type": "code",
   "execution_count": 0,
   "metadata": {
    "application/vnd.databricks.v1+cell": {
     "cellMetadata": {},
     "inputWidgets": {},
     "nuid": "e9fb9473-ca78-4972-a064-34f6158f8467",
     "showTitle": false,
     "tableResultSettingsMap": {},
     "title": ""
    }
   },
   "outputs": [],
   "source": [
    "from pyspark.sql.functions import current_timestamp, lit\n",
    "qualify_final_df = qualify_df.withColumnRenamed(\"qualifyId\", \"qualify_id\")\\\n",
    "    .withColumnRenamed(\"driverId\", \"driver_id\")\\\n",
    "    .withColumnRenamed(\"raceId\", \"race_id\")\\\n",
    "    .withColumnRenamed(\"constructorId\", \"constructor_id\")\\\n",
    "    .withColumn(\"ingested_date\", current_timestamp())\\\n",
    "    .withColumn(\"data_source\", lit(v_data_source))"
   ]
  },
  {
   "cell_type": "code",
   "execution_count": 0,
   "metadata": {
    "application/vnd.databricks.v1+cell": {
     "cellMetadata": {},
     "inputWidgets": {},
     "nuid": "d2a98e68-26b1-4774-8dc7-f3ebe6b2895a",
     "showTitle": false,
     "tableResultSettingsMap": {},
     "title": ""
    }
   },
   "outputs": [],
   "source": [
    "#qualify_final_df.write.mode(\"overwrite\").parquet(f\"{processed_container_folder_path}/qualifying\")\n",
    "\n",
    "#qualify_final_df.write.mode(\"overwrite\").format(\"parquet\").saveAsTable(\"f1_processed_db.qualifying\")\n",
    "\n",
    "#load_incremental_data(qualify_final_df, \"race_id\",\"f1_processed_db\", \"qualifying\")\n",
    "\n",
    "merge_condition = \"target_tab.qualify_id = source_tab.qualify_id AND target_tab.race_id = source_tab.race_id\"\n",
    "merge_incremental_data( qualify_final_df, processed_container_folder_path, merge_condition, \"race_id\", \"f1_processed_db\", \"qualifying\")"
   ]
  },
  {
   "cell_type": "code",
   "execution_count": 0,
   "metadata": {
    "application/vnd.databricks.v1+cell": {
     "cellMetadata": {},
     "inputWidgets": {},
     "nuid": "6c039e06-bd19-4eb7-8157-db8678e1870a",
     "showTitle": false,
     "tableResultSettingsMap": {},
     "title": ""
    }
   },
   "outputs": [],
   "source": [
    "dbutils.notebook.exit(\"success\")"
   ]
  }
 ],
 "metadata": {
  "application/vnd.databricks.v1+notebook": {
   "computePreferences": null,
   "dashboards": [],
   "environmentMetadata": {
    "base_environment": "",
    "client": "1"
   },
   "language": "python",
   "notebookMetadata": {
    "pythonIndentUnit": 4
   },
   "notebookName": "qualifying_folder_data_ingestion",
   "widgets": {}
  },
  "language_info": {
   "name": "python"
  }
 },
 "nbformat": 4,
 "nbformat_minor": 0
}
