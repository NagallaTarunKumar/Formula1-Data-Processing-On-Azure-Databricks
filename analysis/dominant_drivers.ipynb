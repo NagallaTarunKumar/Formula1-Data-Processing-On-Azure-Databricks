{
 "cells": [
  {
   "cell_type": "code",
   "execution_count": 0,
   "metadata": {
    "application/vnd.databricks.v1+cell": {
     "cellMetadata": {},
     "inputWidgets": {},
     "nuid": "b5010b29-5b8f-4d2d-8fe0-9856eeef398e",
     "showTitle": false,
     "tableResultSettingsMap": {},
     "title": ""
    }
   },
   "outputs": [],
   "source": [
    "--Dominant drivers who participated in more that 50 races.(analysts can use this query to find the best drivers)\n",
    "select driver_name,\n",
    "sum(calculated_points) as total_points,\n",
    "count(*) as total_races,\n",
    "avg(calculated_points) as avg_points\n",
    "FROM\n",
    "f1_presentation_db.calculated_points\n",
    "group by driver_name\n",
    "having total_races > 50\n",
    "order by avg_points desc"
   ]
  },
  {
   "cell_type": "code",
   "execution_count": 0,
   "metadata": {
    "application/vnd.databricks.v1+cell": {
     "cellMetadata": {},
     "inputWidgets": {},
     "nuid": "d311b3d8-6568-4710-9aa2-1a1d27ccb3ef",
     "showTitle": false,
     "tableResultSettingsMap": {},
     "title": ""
    }
   },
   "outputs": [],
   "source": [
    "--Dominant drivers of last decade.(analysts can use this query to find the best drivers) , we can save the results to tables or view as per the requirement.\n",
    "select driver_name,\n",
    "sum(calculated_points) as total_points,\n",
    "count(*) as total_races,\n",
    "avg(calculated_points) as avg_points\n",
    "FROM\n",
    "f1_presentation_db.calculated_points\n",
    "where race_year between 2011 and 2020\n",
    "group by driver_name\n",
    "having total_races > 50\n",
    "order by avg_points desc"
   ]
  }
 ],
 "metadata": {
  "application/vnd.databricks.v1+notebook": {
   "computePreferences": null,
   "dashboards": [],
   "environmentMetadata": {
    "base_environment": "",
    "client": "1"
   },
   "language": "sql",
   "notebookMetadata": {
    "pythonIndentUnit": 4
   },
   "notebookName": "dominant_drivers",
   "widgets": {}
  },
  "language_info": {
   "name": "sql"
  }
 },
 "nbformat": 4,
 "nbformat_minor": 0
}
