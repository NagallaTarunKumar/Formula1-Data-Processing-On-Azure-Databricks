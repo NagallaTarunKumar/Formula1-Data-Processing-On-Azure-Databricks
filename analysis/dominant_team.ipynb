{
 "cells": [
  {
   "cell_type": "code",
   "execution_count": 0,
   "metadata": {
    "application/vnd.databricks.v1+cell": {
     "cellMetadata": {},
     "inputWidgets": {},
     "nuid": "f4b3bae8-3c21-40bb-84a9-4841bc4ab718",
     "showTitle": false,
     "tableResultSettingsMap": {},
     "title": ""
    }
   },
   "outputs": [],
   "source": [
    "-- dominant teams to win the most races\n",
    "select constructor_name,\n",
    "count(*) as team_total_races,\n",
    "sum(calculated_points) as team_total_points,\n",
    "avg(calculated_points) as team_average_points\n",
    "from \n",
    "f1_presentation_db.calculated_points\n",
    "group by constructor_name\n",
    "Having team_total_races > 50\n",
    "order by team_average_points desc\n"
   ]
  },
  {
   "cell_type": "code",
   "execution_count": 0,
   "metadata": {
    "application/vnd.databricks.v1+cell": {
     "cellMetadata": {},
     "inputWidgets": {},
     "nuid": "b1656349-d527-456b-ad66-598516337410",
     "showTitle": false,
     "tableResultSettingsMap": {},
     "title": ""
    }
   },
   "outputs": [],
   "source": [
    "-- dominant teams to win the most races in the last decade\n",
    "select constructor_name,\n",
    "count(*) as team_total_races,\n",
    "sum(calculated_points) as team_total_points,\n",
    "avg(calculated_points) as team_average_points\n",
    "from \n",
    "f1_presentation_db.calculated_points\n",
    "where race_year between 2010 and 2020\n",
    "group by constructor_name\n",
    "Having team_total_races > 50\n",
    "order by team_average_points desc"
   ]
  }
 ],
 "metadata": {
  "application/vnd.databricks.v1+notebook": {
   "computePreferences": null,
   "dashboards": [],
   "environmentMetadata": {
    "base_environment": "",
    "client": "1"
   },
   "language": "sql",
   "notebookMetadata": {},
   "notebookName": "dominant_team",
   "widgets": {}
  },
  "language_info": {
   "name": "sql"
  }
 },
 "nbformat": 4,
 "nbformat_minor": 0
}
