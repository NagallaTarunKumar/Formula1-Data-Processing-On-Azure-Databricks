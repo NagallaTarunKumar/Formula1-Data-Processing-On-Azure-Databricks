{
 "cells": [
  {
   "cell_type": "code",
   "execution_count": 0,
   "metadata": {
    "application/vnd.databricks.v1+cell": {
     "cellMetadata": {},
     "inputWidgets": {},
     "nuid": "008723e0-74da-47a4-b76d-361d0ef6c40f",
     "showTitle": false,
     "tableResultSettingsMap": {},
     "title": ""
    }
   },
   "outputs": [],
   "source": [
    "-- dominant teams to win the most races\n",
    "create or replace temp view dominant_teams \n",
    "as\n",
    "select constructor_name,\n",
    "count(*) as team_total_races,\n",
    "sum(calculated_points) as team_total_points,\n",
    "avg(calculated_points) as team_average_points,\n",
    "rank() over (order by avg(calculated_points) desc) as team_rank\n",
    "from \n",
    "f1_presentation_db.calculated_points\n",
    "group by constructor_name\n",
    "Having team_total_races > 50\n",
    "order by team_average_points desc"
   ]
  },
  {
   "cell_type": "code",
   "execution_count": 0,
   "metadata": {
    "application/vnd.databricks.v1+cell": {
     "cellMetadata": {},
     "inputWidgets": {},
     "nuid": "72360ad8-7cb8-4d3e-8a75-c12ffc695588",
     "showTitle": false,
     "tableResultSettingsMap": {},
     "title": ""
    }
   },
   "outputs": [],
   "source": [
    "--query to find year wise performance of top 10 dominant drivers of all time over years\n",
    "select race_year,\n",
    "constructor_name,\n",
    "sum(calculated_points) as total_points,\n",
    "count(*) as total_races,\n",
    "avg(calculated_points) as avg_points\n",
    "FROM\n",
    "f1_presentation_db.calculated_points\n",
    "where constructor_name in (select constructor_name from dominant_teams where team_rank <= 5)\n",
    "group by race_year,constructor_name\n",
    "order by race_year,avg_points desc"
   ]
  }
 ],
 "metadata": {
  "application/vnd.databricks.v1+notebook": {
   "computePreferences": null,
   "dashboards": [],
   "environmentMetadata": {
    "base_environment": "",
    "client": "1"
   },
   "language": "sql",
   "notebookMetadata": {},
   "notebookName": "visualize_dominant_teams",
   "widgets": {}
  },
  "language_info": {
   "name": "sql"
  }
 },
 "nbformat": 4,
 "nbformat_minor": 0
}
