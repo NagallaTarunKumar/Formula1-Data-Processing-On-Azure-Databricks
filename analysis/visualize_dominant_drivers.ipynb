{
 "cells": [
  {
   "cell_type": "code",
   "execution_count": 0,
   "metadata": {
    "application/vnd.databricks.v1+cell": {
     "cellMetadata": {},
     "inputWidgets": {},
     "nuid": "ea0619fa-8fb7-4ec2-aa9f-e0a46a9bfba7",
     "showTitle": false,
     "tableResultSettingsMap": {},
     "title": ""
    }
   },
   "outputs": [],
   "source": [
    "--Dominant drivers who participated in more that 50 races.(analysts can use this query to find the best drivers)\n",
    "create or replace temp view dominant_drivers\n",
    "AS\n",
    "select driver_name,\n",
    "sum(calculated_points) as total_points,\n",
    "count(*) as total_races,\n",
    "avg(calculated_points) as avg_points,\n",
    "rank() over(order by avg(calculated_points) desc) as driver_rank\n",
    "FROM\n",
    "f1_presentation_db.calculated_points\n",
    "group by driver_name\n",
    "having total_races > 50\n",
    "order by avg_points desc"
   ]
  },
  {
   "cell_type": "code",
   "execution_count": 0,
   "metadata": {
    "application/vnd.databricks.v1+cell": {
     "cellMetadata": {},
     "inputWidgets": {},
     "nuid": "bb417c8b-9ac9-4635-8f90-09d78fccff02",
     "showTitle": false,
     "tableResultSettingsMap": {},
     "title": ""
    }
   },
   "outputs": [],
   "source": [
    "--query to find year wise performance of top 5 dominant drivers of all time over years\n",
    "select race_year,\n",
    "driver_name,\n",
    "sum(calculated_points) as total_points,\n",
    "count(*) as total_races,\n",
    "avg(calculated_points) as avg_points\n",
    "FROM\n",
    "f1_presentation_db.calculated_points\n",
    "where driver_name in (select driver_name from dominant_drivers where driver_rank <= 5)\n",
    "group by race_year,driver_name\n",
    "order by race_year,avg_points desc"
   ]
  }
 ],
 "metadata": {
  "application/vnd.databricks.v1+notebook": {
   "computePreferences": null,
   "dashboards": [],
   "environmentMetadata": {
    "base_environment": "",
    "client": "1"
   },
   "language": "sql",
   "notebookMetadata": {},
   "notebookName": "visualize_dominant_drivers",
   "widgets": {}
  },
  "language_info": {
   "name": "sql"
  }
 },
 "nbformat": 4,
 "nbformat_minor": 0
}
